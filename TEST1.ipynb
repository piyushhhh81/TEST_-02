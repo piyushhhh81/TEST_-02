{
 "cells": [
  {
   "cell_type": "markdown",
   "id": "80c93d66-5bca-4523-9c0f-b979b539972d",
   "metadata": {},
   "source": [
    "#### TEST"
   ]
  },
  {
   "cell_type": "markdown",
   "id": "66231939-c0a6-4a3a-a0e3-a2a445bbe2c2",
   "metadata": {},
   "source": [
    "#### 1. Find the 2nd largest and 2nd smallest element in a list.\n"
   ]
  },
  {
   "cell_type": "code",
   "execution_count": 4,
   "id": "ba4c6891-2ec9-4280-b876-94f4f2cc40fd",
   "metadata": {},
   "outputs": [
    {
     "name": "stdout",
     "output_type": "stream",
     "text": [
      "2nd smallest: 34\n",
      "2nd largest: 1000\n"
     ]
    }
   ],
   "source": [
    "numbers =[11,34,65,78,99,1000,55]\n",
    "second_smallest = numbers [1]\n",
    "second_largest = numbers [-2]\n",
    "\n",
    "print(\"2nd smallest:\", second_smallest )\n",
    "print(\"2nd largest:\", second_largest)\n"
   ]
  },
  {
   "cell_type": "markdown",
   "id": "864b90e4-0de2-4e12-b210-aedc103bf665",
   "metadata": {},
   "source": [
    "#### 2. Find the key with the largest value in a dictionary.\n"
   ]
  },
  {
   "cell_type": "code",
   "execution_count": 2,
   "id": "76612d87-5154-46ac-b8e8-fbd0a5be9774",
   "metadata": {},
   "outputs": [
    {
     "name": "stdout",
     "output_type": "stream",
     "text": [
      "y\n"
     ]
    }
   ],
   "source": [
    "d = {\"p\":10 , \"I\":20,\"y\":30}  \n",
    "print(max(d,key = d.get))"
   ]
  },
  {
   "cell_type": "markdown",
   "id": "309f0b44-e481-4e3a-bd56-c67783a48249",
   "metadata": {},
   "source": [
    "#### 3. Create a new folder using os module and create a file inside it.\n"
   ]
  },
  {
   "cell_type": "code",
   "execution_count": 9,
   "id": "59f8f54b-ed32-44a1-bc1c-e191361f1349",
   "metadata": {},
   "outputs": [
    {
     "ename": "FileExistsError",
     "evalue": "[WinError 183] Cannot create a file when that file already exists: 'ABCDEfg'",
     "output_type": "error",
     "traceback": [
      "\u001b[1;31m---------------------------------------------------------------------------\u001b[0m",
      "\u001b[1;31mFileExistsError\u001b[0m                           Traceback (most recent call last)",
      "Cell \u001b[1;32mIn[9], line 2\u001b[0m\n\u001b[0;32m      1\u001b[0m \u001b[38;5;28;01mimport\u001b[39;00m\u001b[38;5;250m \u001b[39m\u001b[38;5;21;01mos\u001b[39;00m\n\u001b[1;32m----> 2\u001b[0m os\u001b[38;5;241m.\u001b[39mmkdir(\u001b[38;5;124m\"\u001b[39m\u001b[38;5;124mABCDEfg\u001b[39m\u001b[38;5;124m\"\u001b[39m)\n\u001b[0;32m      3\u001b[0m f \u001b[38;5;241m=\u001b[39m \u001b[38;5;28mopen\u001b[39m(\u001b[38;5;124m\"\u001b[39m\u001b[38;5;124mABCD/newfile.txt\u001b[39m\u001b[38;5;124m\"\u001b[39m,\u001b[38;5;124m\"\u001b[39m\u001b[38;5;124mw\u001b[39m\u001b[38;5;124m\"\u001b[39m)\n\u001b[0;32m      4\u001b[0m f\u001b[38;5;241m.\u001b[39mwrite(\u001b[38;5;124m\"\u001b[39m\u001b[38;5;124mmy file is inside ABCD\u001b[39m\u001b[38;5;124m\"\u001b[39m)\n",
      "\u001b[1;31mFileExistsError\u001b[0m: [WinError 183] Cannot create a file when that file already exists: 'ABCDEfg'"
     ]
    }
   ],
   "source": [
    "import o\n",
    "os.mkdir(\"Myfile\")\n",
    "\n",
    "\n"
   ]
  },
  {
   "cell_type": "markdown",
   "id": "9903a604-3d0f-4ba0-ba14-a451ccfefc7e",
   "metadata": {},
   "source": [
    "#### 4. Write a recursive function to calculate Fibonacci series up to n terms. \n"
   ]
  },
  {
   "cell_type": "code",
   "execution_count": 15,
   "id": "71c3fae2-2a27-4444-923c-12b04a074ece",
   "metadata": {},
   "outputs": [
    {
     "name": "stdin",
     "output_type": "stream",
     "text": [
      "Enter number of terms:  3\n"
     ]
    },
    {
     "name": "stdout",
     "output_type": "stream",
     "text": [
      "Fibonacci Series:\n",
      "0 1 1 "
     ]
    }
   ],
   "source": [
    "n_terms = int(input(\"Enter number of terms: \"))\n",
    "\n",
    "a, b = 0, 1\n",
    "print(\"Fibonacci Series:\")\n",
    "\n",
    "for i in range(n_terms):\n",
    "    print(a, end=\" \")\n",
    "    a, b = b, a + b\n"
   ]
  },
  {
   "cell_type": "markdown",
   "id": "35ce2095-a29c-4967-9ec8-fb1c77f3c375",
   "metadata": {},
   "source": [
    "#### 5. Use a lambda with map() to convert a list of integers into their cubes. \n"
   ]
  },
  {
   "cell_type": "code",
   "execution_count": 16,
   "id": "f15990a1-add3-49f6-8ae9-4b8acf18b69b",
   "metadata": {},
   "outputs": [
    {
     "data": {
      "text/plain": [
       "[12167, 157464, 300763, 704969]"
      ]
     },
     "execution_count": 16,
     "metadata": {},
     "output_type": "execute_result"
    }
   ],
   "source": [
    "number = [ 23 ,54, 67, 89,]\n",
    "list( map(lambda x: x**3,number))"
   ]
  },
  {
   "cell_type": "code",
   "execution_count": null,
   "id": "eb3d017b-f5d8-42ff-96a0-03f4b14beead",
   "metadata": {},
   "outputs": [],
   "source": []
  }
 ],
 "metadata": {
  "kernelspec": {
   "display_name": "Python [conda env:base] *",
   "language": "python",
   "name": "conda-base-py"
  },
  "language_info": {
   "codemirror_mode": {
    "name": "ipython",
    "version": 3
   },
   "file_extension": ".py",
   "mimetype": "text/x-python",
   "name": "python",
   "nbconvert_exporter": "python",
   "pygments_lexer": "ipython3",
   "version": "3.13.5"
  }
 },
 "nbformat": 4,
 "nbformat_minor": 5
}
