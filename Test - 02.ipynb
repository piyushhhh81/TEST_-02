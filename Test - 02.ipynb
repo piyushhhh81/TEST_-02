{
 "cells": [
  {
   "cell_type": "markdown",
   "id": "80c93d66-5bca-4523-9c0f-b979b539972d",
   "metadata": {},
   "source": [
    "#### TEST"
   ]
  },
  {
   "cell_type": "markdown",
   "id": "66231939-c0a6-4a3a-a0e3-a2a445bbe2c2",
   "metadata": {},
   "source": [
    "#### 1. Find the 2nd largest and 2nd smallest element in a list.\n"
   ]
  },
  {
   "cell_type": "code",
   "execution_count": 4,
   "id": "ba4c6891-2ec9-4280-b876-94f4f2cc40fd",
   "metadata": {},
   "outputs": [
    {
     "name": "stdout",
     "output_type": "stream",
     "text": [
      "2nd smallest: 34\n",
      "2nd largest: 1000\n"
     ]
    }
   ],
   "source": [
    "numbers =[11,34,65,78,99,1000,55]\n",
    "second_smallest = numbers [1]\n",
    "second_largest = numbers [-2]\n",
    "\n",
    "print(\"2nd smallest:\", second_smallest )\n",
    "print(\"2nd largest:\", second_largest)\n"
   ]
  },
  {
   "cell_type": "markdown",
   "id": "864b90e4-0de2-4e12-b210-aedc103bf665",
   "metadata": {},
   "source": [
    "#### 2. Find the key with the largest value in a dictionary.\n"
   ]
  },
  {
   "cell_type": "code",
   "execution_count": 2,
   "id": "76612d87-5154-46ac-b8e8-fbd0a5be9774",
   "metadata": {},
   "outputs": [
    {
     "name": "stdout",
     "output_type": "stream",
     "text": [
      "y\n"
     ]
    }
   ],
   "source": [
    "d = {\"p\":10 , \"I\":20,\"y\":30}  \n",
    "print(max(d,key = d.get))"
   ]
  },
  {
   "cell_type": "markdown",
   "id": "309f0b44-e481-4e3a-bd56-c67783a48249",
   "metadata": {},
   "source": [
    "#### 3. Create a new folder using os module and create a file inside it.\n"
   ]
  },
  {
   "cell_type": "code",
   "execution_count": 19,
   "id": "59f8f54b-ed32-44a1-bc1c-e191361f1349",
   "metadata": {},
   "outputs": [
    {
     "name": "stdout",
     "output_type": "stream",
     "text": [
      "Succesfully create the folder and file\n"
     ]
    }
   ],
   "source": [
    "import os\n",
    "os.mkdir(\"Myfloder\")\n",
    "f = open(\"myfloder/newfile.txt\",\"w\")\n",
    "f.write(\"my file is inside myfloder\")\n",
    "f.close()\n",
    "print(\"Succesfully create the folder and file\")\n"
   ]
  },
  {
   "cell_type": "markdown",
   "id": "9903a604-3d0f-4ba0-ba14-a451ccfefc7e",
   "metadata": {},
   "source": [
    "#### 4. Write a recursive function to calculate Fibonacci series up to n terms. \n"
   ]
  },
  {
   "cell_type": "code",
   "execution_count": 15,
   "id": "71c3fae2-2a27-4444-923c-12b04a074ece",
   "metadata": {},
   "outputs": [
    {
     "name": "stdin",
     "output_type": "stream",
     "text": [
      "Enter number of terms:  3\n"
     ]
    },
    {
     "name": "stdout",
     "output_type": "stream",
     "text": [
      "Fibonacci Series:\n",
      "0 1 1 "
     ]
    }
   ],
   "source": [
    "n_terms = int(input(\"Enter number of terms: \"))\n",
    "\n",
    "a, b = 0, 1\n",
    "print(\"Fibonacci Series:\")\n",
    "\n",
    "for i in range(n_terms):\n",
    "    print(a, end=\" \")\n",
    "    a, b = b, a + b\n"
   ]
  },
  {
   "cell_type": "markdown",
   "id": "35ce2095-a29c-4967-9ec8-fb1c77f3c375",
   "metadata": {},
   "source": [
    "#### 5. Use a lambda with map() to convert a list of integers into their cubes. \n"
   ]
  },
  {
   "cell_type": "code",
   "execution_count": 17,
   "id": "f15990a1-add3-49f6-8ae9-4b8acf18b69b",
   "metadata": {},
   "outputs": [
    {
     "data": {
      "text/plain": [
       "[1, 8, 39304, 166375]"
      ]
     },
     "execution_count": 17,
     "metadata": {},
     "output_type": "execute_result"
    }
   ],
   "source": [
    "number = [ 1,2,34,55]\n",
    "list(map(lambda x: x**3,number))"
   ]
  },
  {
   "cell_type": "markdown",
   "id": "364ff448-d8e9-476c-8d94-4ed2b5f71def",
   "metadata": {},
   "source": [
    "#### 6. Create a class Employee that increases salary by 10%."
   ]
  },
  {
   "cell_type": "code",
   "execution_count": null,
   "id": "b653943f-06a3-485d-85db-91ce03fabbaa",
   "metadata": {},
   "outputs": [],
   "source": []
  },
  {
   "cell_type": "markdown",
   "id": "efd4cea0-4b1d-4534-8a0e-36d5f4a60a4e",
   "metadata": {},
   "source": [
    "#### 7. Write a program to print the date 30 days from today. \n",
    "\n",
    "\n"
   ]
  },
  {
   "cell_type": "code",
   "execution_count": 22,
   "id": "e708a40a-9df4-4552-9c9a-0f7dde75c820",
   "metadata": {},
   "outputs": [
    {
     "name": "stdout",
     "output_type": "stream",
     "text": [
      "Today: 2025-09-16\n",
      "30 days from today: 2025-10-16\n"
     ]
    }
   ],
   "source": [
    "from datetime import date, timedelta\n",
    "\n",
    "today = date.today()\n",
    "new_date = today + timedelta(days=30)\n",
    "\n",
    "print(\"Today:\", today)\n",
    "print(\"30 days from today:\", new_date)\n"
   ]
  },
  {
   "cell_type": "markdown",
   "id": "32695fe6-506e-4a16-a2c8-5c691c626e5e",
   "metadata": {},
   "source": [
    "#### 8. Write a program to convert radians to degrees and vice versa. \n"
   ]
  },
  {
   "cell_type": "markdown",
   "id": "dc8ed85d-1616-4107-92e2-f6373db48cfb",
   "metadata": {},
   "source": [
    "#### 9.  Write a regex to validate if a string is a valid Indian mobile number (10 digits).\n"
   ]
  },
  {
   "cell_type": "markdown",
   "id": "8fecc988-9677-439a-a46c-a0a8fe772b80",
   "metadata": {},
   "source": [
    "#### 10. Create a class Bank with encapsulated methods to show account details securely. \n"
   ]
  },
  {
   "cell_type": "code",
   "execution_count": null,
   "id": "9deb3f45-6412-4edf-95ba-1ed6eb146de1",
   "metadata": {},
   "outputs": [],
   "source": []
  }
 ],
 "metadata": {
  "kernelspec": {
   "display_name": "Python [conda env:base] *",
   "language": "python",
   "name": "conda-base-py"
  },
  "language_info": {
   "codemirror_mode": {
    "name": "ipython",
    "version": 3
   },
   "file_extension": ".py",
   "mimetype": "text/x-python",
   "name": "python",
   "nbconvert_exporter": "python",
   "pygments_lexer": "ipython3",
   "version": "3.13.5"
  }
 },
 "nbformat": 4,
 "nbformat_minor": 5
}
